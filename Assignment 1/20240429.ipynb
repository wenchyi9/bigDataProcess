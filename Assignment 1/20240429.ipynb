{
  "nbformat": 4,
  "nbformat_minor": 0,
  "metadata": {
    "colab": {
      "provenance": []
    },
    "kernelspec": {
      "name": "python3",
      "display_name": "Python 3"
    },
    "language_info": {
      "name": "python"
    }
  },
  "cells": [
    {
      "cell_type": "code",
      "execution_count": 2,
      "metadata": {
        "colab": {
          "base_uri": "https://localhost:8080/"
        },
        "id": "nPH8n1GR06Mb",
        "outputId": "d54c9d2b-0651-4e5e-b514-f435b0b40c4a"
      },
      "outputs": [
        {
          "output_type": "stream",
          "name": "stdout",
          "text": [
            "  82   9  51  36   6  90  72  77  18   9"
          ]
        }
      ],
      "source": [
        "import random\n",
        "for i in range(1,11):\n",
        "  randNum = random.randint(1,100)\n",
        "  print('%4d'%(randNum),end='')"
      ]
    },
    {
      "cell_type": "code",
      "source": [
        "import random\n",
        "even=0\n",
        "odd=0\n",
        "for i in range(1,11):\n",
        "  randNum = random.randint(1,10000)\n",
        "  print(randNum,end=' ')\n",
        "  if randNum %2 == 0:\n",
        "    even += 1\n",
        "  else:\n",
        "    odd += 1\n",
        "print('\\neven = %d,odd = %d'%(even,odd))"
      ],
      "metadata": {
        "colab": {
          "base_uri": "https://localhost:8080/"
        },
        "id": "RoTEUc9W1zpa",
        "outputId": "e6224fc7-611e-4d7a-a558-1f722a7eaefb"
      },
      "execution_count": 4,
      "outputs": [
        {
          "output_type": "stream",
          "name": "stdout",
          "text": [
            "6765 3118 359 7805 4380 1729 4858 4035 1543 270 \n",
            "even = 4,odd = 6\n"
          ]
        }
      ]
    },
    {
      "cell_type": "code",
      "source": [
        "#Version 1\n",
        "import random\n",
        "times3 = 0\n",
        "times5 = 0\n",
        "times7 = 0\n",
        "others = 0\n",
        "for i in range(1,101):\n",
        "  flag = False\n",
        "  randNum = random.randint(1,100)\n",
        "  print(randNum,end=' ')\n",
        "  if randNum %3 == 0:\n",
        "    times3 += 1\n",
        "    flag = True\n",
        "  if randNum %5 == 0:\n",
        "    times5 += 1\n",
        "    flag = True\n",
        "  if randNum %7 == 0:\n",
        "    times7 += 1\n",
        "    flag = True\n",
        "  if flag == False:\n",
        "    others += 1\n",
        "print('\\ntimes3 = %d,times5 = %d,times7 = %d'%(times3,times5,times7))\n",
        "print('others = %d'%(others))"
      ],
      "metadata": {
        "colab": {
          "base_uri": "https://localhost:8080/"
        },
        "id": "yDK30tLY6-_F",
        "outputId": "be02f384-a172-407d-bf58-5853688a8ad3"
      },
      "execution_count": 7,
      "outputs": [
        {
          "output_type": "stream",
          "name": "stdout",
          "text": [
            "7 78 5 94 5 96 100 19 6 7 99 97 19 24 58 78 59 70 18 84 99 48 99 63 79 94 48 27 81 38 10 65 88 22 88 58 30 7 25 47 97 64 1 37 10 94 81 45 79 18 45 42 44 68 63 63 42 24 7 31 55 23 38 39 54 6 73 14 53 2 14 2 99 10 51 77 27 18 45 38 40 83 1 48 84 4 11 22 92 64 64 74 91 77 30 89 77 7 49 5 \n",
            "times3 = 36,times5 = 17,times7 = 20\n",
            "others = 40\n"
          ]
        }
      ]
    }
  ]
}